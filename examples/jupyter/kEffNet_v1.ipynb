{
  "nbformat": 4,
  "nbformat_minor": 0,
  "metadata": {
    "colab": {
      "name": "kEffNet_v1.ipynb",
      "provenance": [],
      "collapsed_sections": []
    },
    "kernelspec": {
      "name": "python3",
      "display_name": "Python 3"
    },
    "accelerator": "GPU"
  },
  "cells": [
    {
      "cell_type": "markdown",
      "metadata": {
        "id": "21WmyQrYYFGo"
      },
      "source": [
        "## kEffNet-B0 version 1 with CIFAR-10, CIFAR-100, MNIST or FASHION MNIST.\n",
        "You can learn more about these datasets at:\n",
        "* CIFAR-10 and CIFAR-100: https://www.cs.toronto.edu/~kriz/cifar.html .\n",
        "* MNIST: http://yann.lecun.com/exdb/mnist/ .\n",
        "* FASHION MNIST: https://github.com/zalandoresearch/fashion-mnist .\n",
        "\n",
        "This example is part of the [K-CAI Neural API](https://github.com/joaopauloschuler/k-neural-api)."
      ]
    },
    {
      "cell_type": "markdown",
      "source": [
        "You might need to install this on your system:\n",
        "\n",
        "apt-get install python3-opencv git"
      ],
      "metadata": {
        "id": "kgJeXKXKII6N"
      }
    },
    {
      "cell_type": "code",
      "metadata": {
        "id": "br3ws9jlWuaE"
      },
      "source": [
        "#@title Global Settings\n",
        "from tensorflow import keras\n",
        "import tensorflow.keras.layers\n",
        "import tensorflow.keras.models\n",
        "import tensorflow.keras.datasets\n",
        "from tensorflow.keras import regularizers\n",
        "dataset=tensorflow.keras.datasets.cifar10 #@param [\"tensorflow.keras.datasets.cifar10\", \"tensorflow.keras.datasets.cifar100\", \"tensorflow.keras.datasets.mnist\", \"tensorflow.keras.datasets.fashion_mnist\"] {type:\"raw\"} \n",
        "batch_size=64 # @param [16, 32, 64, 128, 256, 512] {type:\"raw\"} \n",
        "min_channels_per_group=16 # @param [16, 32] {type:\"raw\"}\n",
        "epochs=50 # @param [2, 50, 100, 100, 200, 400] {type:\"raw\"}\n",
        "verbose=True #@param {type:\"boolean\"}\n",
        "bipolar_input=True #@param {type:\"boolean\"}\n",
        "seed=7\n",
        "\n",
        "if dataset is keras.datasets.cifar10 or dataset is keras.datasets.cifar100:\n",
        "  global_input_shape = (32, 32, 3)\n",
        "else:\n",
        "  global_input_shape = (28, 28, 1)\n",
        "\n",
        "if (dataset==keras.datasets.cifar100):\n",
        "  num_classes = 100\n",
        "else:\n",
        "  num_classes = 10"
      ],
      "execution_count": null,
      "outputs": []
    },
    {
      "cell_type": "code",
      "metadata": {
        "id": "yxIOe64-Cf8i"
      },
      "source": [
        "import os\n",
        "if not os.path.isdir('k'):\n",
        " !git clone -b development15 https://github.com/joaopauloschuler/k-neural-api.git k\n",
        "else:\n",
        " !cd k && git pull\n",
        "!cd k && pip install ."
      ],
      "execution_count": null,
      "outputs": []
    },
    {
      "cell_type": "code",
      "source": [
        "import cai.layers\n",
        "import cai.datasets\n",
        "import cai.efficientnet\n",
        "import cai.util\n",
        "import gc\n",
        "import multiprocessing\n",
        "import random\n",
        "import tensorflow as tf\n",
        "import numpy as np\n",
        "print(\"Tensorflow version:\", tf.version.VERSION)\n",
        "print(\"Keras version:\", keras.__version__)\n",
        "print(\"CPU cores:\", multiprocessing.cpu_count())\n",
        "import psutil\n",
        "print('RAM:', (psutil.virtual_memory().total / 1e9),'GB')\n",
        "print(tf.config.list_physical_devices('GPU'))\n",
        "import matplotlib.pylab as plt\n",
        "from sklearn.metrics import classification_report"
      ],
      "metadata": {
        "id": "yjRZ9vtqH8j0"
      },
      "execution_count": null,
      "outputs": []
    },
    {
      "cell_type": "code",
      "source": [
        "if min_channels_per_group==16:\n",
        "   kTypes = [cai.layers.D6_16ch()]\n",
        "else:\n",
        "   kTypes = [cai.layers.D6_32ch()]"
      ],
      "metadata": {
        "id": "A7JqHR49Ol54"
      },
      "execution_count": null,
      "outputs": []
    },
    {
      "cell_type": "code",
      "source": [
        "!nvidia-smi"
      ],
      "metadata": {
        "id": "XBXcXOOeIdUk"
      },
      "execution_count": null,
      "outputs": []
    },
    {
      "cell_type": "code",
      "source": [
        "base_model_name='kEffNetV1Example'\n",
        "x_train, y_train, x_val, y_val, x_test, y_test = cai.datasets.load_dataset_with_validation(dataset,\n",
        "  lab=False, verbose=verbose, bipolar=bipolar_input,\n",
        "  base_model_name=base_model_name,\n",
        "  validation_size=0.1, validation_flip_horizontal=True,\n",
        "  validation_flip_vertical=False)\n",
        "print(\"Train shapes:\", x_train.shape, y_train.shape)\n",
        "print(\"Validation shapes:\", x_val.shape, y_val.shape)\n",
        "print(\"Test shapes:\", x_test.shape, y_test.shape)"
      ],
      "metadata": {
        "id": "W6xV3BbqJFbV"
      },
      "execution_count": null,
      "outputs": []
    },
    {
      "cell_type": "code",
      "source": [
        "train_datagen = cai.util.create_image_generator(rotation_range=20, \n",
        "  width_shift_range=0.3, height_shift_range=0.3, channel_shift_range=0.0)\n",
        "valid_datagen = cai.util.create_image_generator_no_augmentation()\n",
        "test_datagen = cai.util.create_image_generator_no_augmentation()\n",
        "cpus_num = max([multiprocessing.cpu_count(), 8])\n",
        "\n",
        "def cyclical_adv_lrscheduler25(epoch):\n",
        "    \"\"\"CAI Cyclical and Advanced Learning Rate Scheduler.\n",
        "    # Arguments\n",
        "        epoch: integer with current epoch count.\n",
        "    # Returns\n",
        "        float with desired learning rate.\n",
        "    \"\"\"\n",
        "    base_learning = 0.001\n",
        "    local_epoch = epoch % 25\n",
        "    if local_epoch < 7:\n",
        "       return base_learning * (1 + 0.5*local_epoch)\n",
        "    else:\n",
        "       return (base_learning * 4) * ( 0.85**(local_epoch-7) )"
      ],
      "metadata": {
        "id": "w0tR3QcbJg6J"
      },
      "execution_count": null,
      "outputs": []
    },
    {
      "cell_type": "code",
      "metadata": {
        "id": "fM06Ebn9qmvp"
      },
      "source": [
        "def work_on_efficientnet(show_model=False, run_fit=False, test_results=False, calc_f1=False, kTypes=[]):\n",
        "  monitor='val_loss'\n",
        "  if (show_model):\n",
        "    input_shape = global_input_shape\n",
        "  else:\n",
        "    input_shape = (None, None, global_input_shape[2])\n",
        "  for kType in kTypes:\n",
        "      basefilename = 'kEffNetV1-'+str(kType)\n",
        "      best_result_file_name = basefilename+'-best_result.hdf5'\n",
        "      print('Running: '+basefilename)\n",
        "      model = cai.efficientnet.kEfficientNetB0(\n",
        "        include_top=True,\n",
        "        skip_stride_cnt=3,\n",
        "        input_shape=input_shape,\n",
        "        classes=num_classes,\n",
        "        kType=kType)\n",
        "      \n",
        "      optimizer = keras.optimizers.RMSprop()\n",
        "      model.compile(\n",
        "        loss='categorical_crossentropy',\n",
        "        optimizer=optimizer,\n",
        "        metrics=['accuracy'])\n",
        "\n",
        "      if (show_model): \n",
        "        model.summary(line_length=180)\n",
        "\n",
        "      save_best = keras.callbacks.ModelCheckpoint(\n",
        "            filepath=best_result_file_name,\n",
        "            monitor=monitor,\n",
        "            verbose=1,\n",
        "            save_best_only=True,\n",
        "            save_weights_only=False,\n",
        "            mode='min',\n",
        "            save_freq='epoch')\n",
        "\n",
        "      if (run_fit): \n",
        "            train_flow = train_datagen.flow(\n",
        "                x_train, y_train,\n",
        "                batch_size=batch_size,\n",
        "                shuffle=True,\n",
        "                seed=seed\n",
        "            )\n",
        "            validation_flow = valid_datagen.flow(\n",
        "                x_val, y_val,\n",
        "                batch_size=batch_size,\n",
        "                shuffle=False,\n",
        "                seed=seed\n",
        "            )\n",
        "            history = model.fit(\n",
        "              x = train_flow,\n",
        "              epochs=epochs,\n",
        "              batch_size=batch_size,\n",
        "              validation_data=validation_flow,\n",
        "              callbacks=[save_best, tf.keras.callbacks.LearningRateScheduler(cyclical_adv_lrscheduler25)],\n",
        "              workers=cpus_num,\n",
        "              max_queue_size=128\n",
        "            )\n",
        "            plt.figure()\n",
        "            plt.ylabel(\"Accuracy (training and validation)\")\n",
        "            plt.xlabel(\"Epochs\")\n",
        "            plt.ylim([0,1])\n",
        "            plt.plot(history.history[\"accuracy\"])\n",
        "            plt.plot(history.history[\"val_accuracy\"])\n",
        "      if (test_results):\n",
        "        test_flow = test_datagen.flow(\n",
        "            x_test, y_test,\n",
        "            batch_size=batch_size,\n",
        "            shuffle=True,\n",
        "            seed=seed\n",
        "        )\n",
        "        print('Best Model Results: '+best_result_file_name)\n",
        "        model = cai.models.load_kereas_model(best_result_file_name)\n",
        "        evaluated = model.evaluate(\n",
        "            x=test_flow,\n",
        "            batch_size=batch_size,\n",
        "            use_multiprocessing=False,\n",
        "            workers=cpus_num\n",
        "        )\n",
        "        for metric, name in zip(evaluated,[\"loss\",\"acc\"]):\n",
        "              print(name,metric)\n",
        "      if (calc_f1):\n",
        "        cai.datasets.test_flips_on_saved_model(x_test, y_test, best_result_file_name, has_flip_x=True, has_flip_y=True, has_bw=False, center_crop=0.15)\n",
        "      print('Finished: '+basefilename)"
      ],
      "execution_count": null,
      "outputs": []
    },
    {
      "cell_type": "markdown",
      "source": [
        "# Show the model"
      ],
      "metadata": {
        "id": "-hkydGVFPRd1"
      }
    },
    {
      "cell_type": "code",
      "source": [
        "work_on_efficientnet(show_model=True, run_fit=False, test_results=False, kTypes=kTypes)"
      ],
      "metadata": {
        "id": "Tg9cUjbFPBgO"
      },
      "execution_count": null,
      "outputs": []
    },
    {
      "cell_type": "markdown",
      "source": [
        "#Fitting"
      ],
      "metadata": {
        "id": "d7O9JaYBPkm4"
      }
    },
    {
      "cell_type": "code",
      "source": [
        "work_on_efficientnet(show_model=False, run_fit=True, test_results=False, kTypes=kTypes)"
      ],
      "metadata": {
        "id": "_JqmaUEAPBRO"
      },
      "execution_count": null,
      "outputs": []
    },
    {
      "cell_type": "markdown",
      "source": [
        "#Test the result"
      ],
      "metadata": {
        "id": "PwDo4wmnPnOI"
      }
    },
    {
      "cell_type": "code",
      "source": [
        "work_on_efficientnet(show_model=False, run_fit=False, test_results=True, kTypes=kTypes)"
      ],
      "metadata": {
        "id": "PTRI0iwpPA6r"
      },
      "execution_count": null,
      "outputs": []
    },
    {
      "cell_type": "markdown",
      "source": [
        "# Calculate F1"
      ],
      "metadata": {
        "id": "gbWMLhK6Pqe7"
      }
    },
    {
      "cell_type": "code",
      "source": [
        "work_on_efficientnet(show_model=False, run_fit=False, test_results=False, calc_f1=True, kTypes=kTypes)"
      ],
      "metadata": {
        "id": "n-jM9fZYPQwl"
      },
      "execution_count": null,
      "outputs": []
    }
  ]
}